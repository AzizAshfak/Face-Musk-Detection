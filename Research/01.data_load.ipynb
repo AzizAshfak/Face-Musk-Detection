{
 "cells": [
  {
   "cell_type": "code",
   "execution_count": 1,
   "metadata": {},
   "outputs": [
    {
     "data": {
      "text/plain": [
       "'d:\\\\ObjectDetection(project-1)\\\\Research'"
      ]
     },
     "execution_count": 1,
     "metadata": {},
     "output_type": "execute_result"
    }
   ],
   "source": [
    "%pwd"
   ]
  },
  {
   "cell_type": "code",
   "execution_count": 2,
   "metadata": {},
   "outputs": [],
   "source": [
    "import os"
   ]
  },
  {
   "cell_type": "code",
   "execution_count": 3,
   "metadata": {},
   "outputs": [],
   "source": [
    "os.chdir('../')"
   ]
  },
  {
   "cell_type": "code",
   "execution_count": 4,
   "metadata": {},
   "outputs": [
    {
     "data": {
      "text/plain": [
       "'d:\\\\ObjectDetection(project-1)'"
      ]
     },
     "execution_count": 4,
     "metadata": {},
     "output_type": "execute_result"
    }
   ],
   "source": [
    "%pwd"
   ]
  },
  {
   "cell_type": "code",
   "execution_count": 5,
   "metadata": {},
   "outputs": [],
   "source": [
    "import os \n",
    "import sys\n",
    "import numpy as np\n",
    "import gdown\n",
    "import zipfile\n",
    "from pathlib import Path\n",
    "from dataclasses import dataclass\n",
    "sys.path.append(os.path.abspath(os.path.join(os.path.dirname(os.getcwd()),'../')))\n",
    "from src.constant import CONFIG_FILE_PATH,PARAMS_FILE_PATH\n",
    "from src.utils.common import read_yaml, create_directories\n",
    "from src.logger import logging\n",
    "from src.exception import  CustomException\n"
   ]
  },
  {
   "cell_type": "code",
   "execution_count": 6,
   "metadata": {},
   "outputs": [],
   "source": [
    "\n",
    "@dataclass(frozen=True)\n",
    "class DataLoadConfig:\n",
    "    root_dir: Path\n",
    "    source_url: str\n",
    "    zip_path: Path\n",
    "    unzip_path: Path"
   ]
  },
  {
   "cell_type": "code",
   "execution_count": 7,
   "metadata": {},
   "outputs": [],
   "source": [
    "class DataLoadConfigManager:\n",
    "    \n",
    "    def __init__(self,cofig_file_path=CONFIG_FILE_PATH,\n",
    "                 params_file_path=PARAMS_FILE_PATH):\n",
    "        self.config = read_yaml(cofig_file_path)\n",
    "        self.params = read_yaml(params_file_path)\n",
    "        \n",
    "        create_directories([self.config.artifacts_root])\n",
    "        \n",
    "    def get_data_config_manager(self) ->DataLoadConfig:\n",
    "        config = self.config.data_ingestion\n",
    "        create_directories([config.root_dir])\n",
    "        \n",
    "        ingestion_manager = DataLoadConfig(\n",
    "            root_dir = Path(config.root_dir),\n",
    "            source_url= str(config.source_url),\n",
    "            zip_path = Path(config.zip_path),\n",
    "            unzip_path = Path(config.unzip_path)\n",
    "        )\n",
    "        return ingestion_manager\n",
    "    "
   ]
  },
  {
   "cell_type": "code",
   "execution_count": 8,
   "metadata": {},
   "outputs": [],
   "source": [
    "class dataLoad:\n",
    "    \n",
    "    def __init__(self,config: DataLoadConfig):\n",
    "        self.config = config\n",
    "        \n",
    "    def download_dataset(self):\n",
    "       try: \n",
    "            source_url = self.config.source_url\n",
    "            zip_dir = self.config.zip_path\n",
    "            os.makedirs(\"artifacts/data_ingestion\",exist_ok=True)\n",
    "            \n",
    "            id_name = source_url.split('/')[-2]\n",
    "            prefix =  'https://drive.google.com/uc?/export=download&id='\n",
    "            gdown.download(prefix+id_name,str(zip_dir))\n",
    "       except Exception as e:\n",
    "           raise CustomException(e,sys)\n",
    "    def Unzip_dataset(self):\n",
    "        try:\n",
    "            zip_dir = self.config.zip_path\n",
    "            unzip_dir = self.config.unzip_path\n",
    "            os.makedirs('artifacts/data_ingestion',exist_ok=True)\n",
    "            with zipfile.ZipFile(zip_dir,'r') as zip_obj:\n",
    "                zip_obj.extractall(unzip_dir)\n",
    "        except Exception as e:\n",
    "            raise CustomException(e,sys)"
   ]
  },
  {
   "cell_type": "code",
   "execution_count": 9,
   "metadata": {},
   "outputs": [
    {
     "name": "stdout",
     "output_type": "stream",
     "text": [
      "[2025-02-22 19:52:19,630 - 33 yaml file: config\\config.yaml loaded successfully]\n",
      "[2025-02-22 19:52:19,633 - 33 yaml file: params\\params.yaml loaded successfully]\n",
      "[2025-02-22 19:52:19,635 - 53 created directory at: artifacts]\n",
      "[2025-02-22 19:52:19,637 - 53 created directory at: artifacts/data_ingestion]\n"
     ]
    },
    {
     "name": "stderr",
     "output_type": "stream",
     "text": [
      "Downloading...\n",
      "From (original): https://drive.google.com/uc?/export=download&id=12OVcHSKODFeyqxndG2b0Un2nJSFuYi4u\n",
      "From (redirected): https://drive.google.com/uc?%2Fexport=download&id=12OVcHSKODFeyqxndG2b0Un2nJSFuYi4u&confirm=t&uuid=0d9be10f-4d39-4877-b1e6-eeb83509a85a\n",
      "To: d:\\ObjectDetection(project-1)\\artifacts\\data_ingestion\\data.zip\n",
      "100%|██████████| 417M/417M [07:55<00:00, 877kB/s]  \n"
     ]
    }
   ],
   "source": [
    "try:\n",
    "    data_config_manager = DataLoadConfigManager()\n",
    "    data_config = data_config_manager.get_data_config_manager()\n",
    "    data_loader = dataLoad(config=data_config)\n",
    "    data_loader.download_dataset()\n",
    "    data_loader.Unzip_dataset()\n",
    "except Exception as e:\n",
    "    raise CustomException(e,sys)\n",
    "    "
   ]
  },
  {
   "cell_type": "code",
   "execution_count": null,
   "metadata": {},
   "outputs": [],
   "source": []
  }
 ],
 "metadata": {
  "kernelspec": {
   "display_name": "venv",
   "language": "python",
   "name": "python3"
  },
  "language_info": {
   "codemirror_mode": {
    "name": "ipython",
    "version": 3
   },
   "file_extension": ".py",
   "mimetype": "text/x-python",
   "name": "python",
   "nbconvert_exporter": "python",
   "pygments_lexer": "ipython3",
   "version": "3.10.11"
  }
 },
 "nbformat": 4,
 "nbformat_minor": 2
}
